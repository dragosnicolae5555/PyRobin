{
 "cells": [
  {
   "cell_type": "code",
   "execution_count": 1,
   "metadata": {
    "collapsed": true
   },
   "outputs": [],
   "source": [
    "import  ro.racai.robin.mw.mw_file_reader as mw"
   ]
  },
  {
   "cell_type": "code",
   "execution_count": 2,
   "metadata": {},
   "outputs": [
    {
     "data": {
      "text/plain": [
       "'PRECIS'"
      ]
     },
     "execution_count": 2,
     "metadata": {},
     "output_type": "execute_result"
    }
   ],
   "source": [
    "mw.get_microworld_name()"
   ]
  },
  {
   "cell_type": "code",
   "execution_count": 3,
   "metadata": {
    "collapsed": true
   },
   "outputs": [],
   "source": [
    "import ro.racai.robin.nlp.ro_lexicon as lexicon\n",
    "import ro.racai.robin.nlp.ro_word_net as word_net\n",
    "import ro.racai.robin.nlp.text_processor as text_procesor"
   ]
  },
  {
   "cell_type": "code",
   "execution_count": 4,
   "metadata": {},
   "outputs": [
    {
     "data": {
      "text/plain": [
       "<ro.racai.robin.nlp.text_processor.TextProcessor at 0x223db337b70>"
      ]
     },
     "execution_count": 4,
     "metadata": {},
     "output_type": "execute_result"
    }
   ],
   "source": [
    "text_procesor.TextProcessor(lexicon,word_net)"
   ]
  },
  {
   "cell_type": "code",
   "execution_count": 14,
   "metadata": {
    "collapsed": true
   },
   "outputs": [],
   "source": [
    "universe=mw.construct_universe(word_net,lexicon,text_procesor.TextProcessor(lexicon,word_net))"
   ]
  },
  {
   "cell_type": "code",
   "execution_count": 26,
   "metadata": {
    "collapsed": true
   },
   "outputs": [],
   "source": [
    "\n",
    "from ro.racai.robin.dialog.rd_robot_behaviour import RDRobotBehaviour\n",
    "from ro.racai.robin.dialog.ro_sayings import RoSayings\n",
    "from ro.racai.robin.dialog.rd_manager import RDManager\n",
    "from ro.racai.robin.mw.mw_file_reader import MWFileReader\n",
    "from ro.racai.robin.nlp.q_type import QType\n",
    "from ro.racai.robin.nlp.ro_lexicon import RoLexicon\n",
    "from ro.racai.robin.nlp.ro_text_processor import RoTextProcessor\n",
    "from ro.racai.robin.nlp.ro_word_net import RoWordNet\n",
    "\n",
    "rown = RoWordNet()\n",
    "rolex = RoLexicon()\n",
    "say = RoSayings()\n",
    "rotp = RoTextProcessor(rolex, rown, say)\n",
    "dman = RDManager(rown, rolex, rotp, say)\n",
    "dman.load_microworld('precis.mw')\n",
    "prompt = RDManager.romanian_diacritics(input(\"User> \"))\n",
    "while len(prompt) > 0 and prompt.lower() != \"exit\" and prompt.lower() != \"quit\":\n",
    "        prompt = prompt.strip()\n",
    "        if prompt.startswith(\"dump\"):\n",
    "            parts = prompt.split()\n",
    "            if parts[1] == \"concepts\":\n",
    "                print(dman.get_concepts_as_string())\n",
    "                print(\"\\n\")\n",
    "            elif parts[1] == \"predicates\":\n",
    "                print(dman.get_predicates_as_string())\n",
    "                print(\"\\n\")\n",
    "            else:\n",
    "                print(\"Dialogue Manager> Unknown 'dump' command.\")\n",
    "                print(\"\\n\")\n",
    "            prompt = RDManager.romanian_diacritics(input(\"User> \"))\n",
    "            continue\n",
    "        dstat = dman.do_conversation(prompt)\n",
    "        print(\"Pepper> \")\n",
    "        print(\" \".join(dstat.get_reply()))\n",
    "        print(\"\\n\")\n",
    "\n",
    "        if dstat.is_dialogue_done():\n",
    "            print(dstat.get_behaviour())\n",
    "\n",
    "        prompt = RDManager.romanian_diacritics(input(\"User> \"))\n",
    "\n",
    "dman.dump_resource_caches()\n"
   ]
  }
 ],
 "metadata": {
  "kernelspec": {
   "display_name": "Python 3",
   "language": "python",
   "name": "python3"
  },
  "language_info": {
   "codemirror_mode": {
    "name": "ipython",
    "version": 3
   },
   "file_extension": ".py",
   "mimetype": "text/x-python",
   "name": "python",
   "nbconvert_exporter": "python",
   "pygments_lexer": "ipython3",
   "version": "3.6.2"
  }
 },
 "nbformat": 4,
 "nbformat_minor": 2
}
